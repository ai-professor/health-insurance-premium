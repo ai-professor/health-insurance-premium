{
 "cells": [
  {
   "cell_type": "markdown",
   "metadata": {
    "id": "yDWK-F2w4QIG"
   },
   "source": [
    "# Importing the Dependencies"
   ]
  },
  {
   "cell_type": "code",
   "execution_count": 1,
   "metadata": {
    "id": "kFTd4JQL3wf8"
   },
   "outputs": [],
   "source": [
    "import numpy as np\n",
    "import pandas as pd\n",
    "import matplotlib.pyplot as plt\n",
    "import seaborn as sns\n",
    "from sklearn.model_selection import train_test_split\n",
    "from sklearn.linear_model import LinearRegression\n",
    "from sklearn.preprocessing import PolynomialFeatures\n",
    "from sklearn.neighbors import KNeighborsRegressor\n",
    "from sklearn.tree import DecisionTreeRegressor\n",
    "from sklearn.ensemble import RandomForestRegressor,GradientBoostingRegressor\n",
    "import xgboost as xgb\n",
    "from xgboost.sklearn import XGBRegressor\n",
    "from sklearn.svm import SVR\n",
    "from sklearn.metrics import mean_squared_error,r2_score,make_scorer, mean_absolute_error\n",
    "from sklearn.pipeline import Pipeline\n",
    "from sklearn.model_selection import RandomizedSearchCV ,GridSearchCV\n",
    "from sklearn import metrics\n",
    "from sklearn.svm import SVR"
   ]
  },
  {
   "cell_type": "markdown",
   "metadata": {
    "id": "e9-eryym4vae"
   },
   "source": [
    "# Data Collection & Analysis"
   ]
  },
  {
   "cell_type": "code",
   "execution_count": 2,
   "metadata": {
    "id": "FeE2A5Cm4l6w"
   },
   "outputs": [],
   "source": [
    "# loading the data from csv file to a Pandas DataFrame\n",
    "insurance_dataset = pd.read_csv('/content/insurance.csv')"
   ]
  },
  {
   "cell_type": "code",
   "execution_count": 3,
   "metadata": {
    "colab": {
     "base_uri": "https://localhost:8080/",
     "height": 205
    },
    "id": "-kV5NAjl4_Iw",
    "outputId": "4416ee4b-fb4e-49a6-aa59-55bc5bd7df23"
   },
   "outputs": [
    {
     "data": {
      "text/html": [
       "<div>\n",
       "<style scoped>\n",
       "    .dataframe tbody tr th:only-of-type {\n",
       "        vertical-align: middle;\n",
       "    }\n",
       "\n",
       "    .dataframe tbody tr th {\n",
       "        vertical-align: top;\n",
       "    }\n",
       "\n",
       "    .dataframe thead th {\n",
       "        text-align: right;\n",
       "    }\n",
       "</style>\n",
       "<table border=\"1\" class=\"dataframe\">\n",
       "  <thead>\n",
       "    <tr style=\"text-align: right;\">\n",
       "      <th></th>\n",
       "      <th>age</th>\n",
       "      <th>sex</th>\n",
       "      <th>bmi</th>\n",
       "      <th>children</th>\n",
       "      <th>smoker</th>\n",
       "      <th>region</th>\n",
       "      <th>expenses</th>\n",
       "    </tr>\n",
       "  </thead>\n",
       "  <tbody>\n",
       "    <tr>\n",
       "      <th>0</th>\n",
       "      <td>19</td>\n",
       "      <td>female</td>\n",
       "      <td>27.9</td>\n",
       "      <td>0</td>\n",
       "      <td>yes</td>\n",
       "      <td>southwest</td>\n",
       "      <td>16884.92</td>\n",
       "    </tr>\n",
       "    <tr>\n",
       "      <th>1</th>\n",
       "      <td>18</td>\n",
       "      <td>male</td>\n",
       "      <td>33.8</td>\n",
       "      <td>1</td>\n",
       "      <td>no</td>\n",
       "      <td>southeast</td>\n",
       "      <td>1725.55</td>\n",
       "    </tr>\n",
       "    <tr>\n",
       "      <th>2</th>\n",
       "      <td>28</td>\n",
       "      <td>male</td>\n",
       "      <td>33.0</td>\n",
       "      <td>3</td>\n",
       "      <td>no</td>\n",
       "      <td>southeast</td>\n",
       "      <td>4449.46</td>\n",
       "    </tr>\n",
       "    <tr>\n",
       "      <th>3</th>\n",
       "      <td>33</td>\n",
       "      <td>male</td>\n",
       "      <td>22.7</td>\n",
       "      <td>0</td>\n",
       "      <td>no</td>\n",
       "      <td>northwest</td>\n",
       "      <td>21984.47</td>\n",
       "    </tr>\n",
       "    <tr>\n",
       "      <th>4</th>\n",
       "      <td>32</td>\n",
       "      <td>male</td>\n",
       "      <td>28.9</td>\n",
       "      <td>0</td>\n",
       "      <td>no</td>\n",
       "      <td>northwest</td>\n",
       "      <td>3866.86</td>\n",
       "    </tr>\n",
       "  </tbody>\n",
       "</table>\n",
       "</div>"
      ],
      "text/plain": [
       "   age     sex   bmi  children smoker     region  expenses\n",
       "0   19  female  27.9         0    yes  southwest  16884.92\n",
       "1   18    male  33.8         1     no  southeast   1725.55\n",
       "2   28    male  33.0         3     no  southeast   4449.46\n",
       "3   33    male  22.7         0     no  northwest  21984.47\n",
       "4   32    male  28.9         0     no  northwest   3866.86"
      ]
     },
     "execution_count": 3,
     "metadata": {
      "tags": []
     },
     "output_type": "execute_result"
    }
   ],
   "source": [
    "# first 5 rows of the dataframe\n",
    "insurance_dataset.head()"
   ]
  },
  {
   "cell_type": "code",
   "execution_count": 4,
   "metadata": {
    "colab": {
     "base_uri": "https://localhost:8080/"
    },
    "id": "mIY8i5MR5Ccd",
    "outputId": "e31a2abe-bbc1-46e3-8a3f-f3cbb1ced6de"
   },
   "outputs": [
    {
     "data": {
      "text/plain": [
       "(1338, 7)"
      ]
     },
     "execution_count": 4,
     "metadata": {
      "tags": []
     },
     "output_type": "execute_result"
    }
   ],
   "source": [
    "# number of rows and columns\n",
    "insurance_dataset.shape"
   ]
  },
  {
   "cell_type": "code",
   "execution_count": 5,
   "metadata": {
    "colab": {
     "base_uri": "https://localhost:8080/"
    },
    "id": "8s9JJnxb5H7q",
    "outputId": "8083e12b-a720-445b-e470-f787f81f599b"
   },
   "outputs": [
    {
     "name": "stdout",
     "output_type": "stream",
     "text": [
      "<class 'pandas.core.frame.DataFrame'>\n",
      "RangeIndex: 1338 entries, 0 to 1337\n",
      "Data columns (total 7 columns):\n",
      " #   Column    Non-Null Count  Dtype  \n",
      "---  ------    --------------  -----  \n",
      " 0   age       1338 non-null   int64  \n",
      " 1   sex       1338 non-null   object \n",
      " 2   bmi       1338 non-null   float64\n",
      " 3   children  1338 non-null   int64  \n",
      " 4   smoker    1338 non-null   object \n",
      " 5   region    1338 non-null   object \n",
      " 6   expenses  1338 non-null   float64\n",
      "dtypes: float64(2), int64(2), object(3)\n",
      "memory usage: 73.3+ KB\n"
     ]
    }
   ],
   "source": [
    "# getting more informations about the dataset\n",
    "insurance_dataset.info()"
   ]
  },
  {
   "cell_type": "markdown",
   "metadata": {
    "id": "LxW3L5uC5XyV"
   },
   "source": [
    "Categorical Features:\n",
    "- Sex\n",
    "- Smoker\n",
    "- Region"
   ]
  },
  {
   "cell_type": "code",
   "execution_count": 6,
   "metadata": {
    "colab": {
     "base_uri": "https://localhost:8080/"
    },
    "id": "gZZjFKX35L4S",
    "outputId": "04f10729-1823-441e-9f33-4e0921c8b494"
   },
   "outputs": [
    {
     "data": {
      "text/plain": [
       "age         0\n",
       "sex         0\n",
       "bmi         0\n",
       "children    0\n",
       "smoker      0\n",
       "region      0\n",
       "expenses    0\n",
       "dtype: int64"
      ]
     },
     "execution_count": 6,
     "metadata": {
      "tags": []
     },
     "output_type": "execute_result"
    }
   ],
   "source": [
    "# checking for missing values\n",
    "insurance_dataset.isnull().sum()"
   ]
  },
  {
   "cell_type": "markdown",
   "metadata": {
    "id": "ukG9IVQV5s3s"
   },
   "source": [
    "# Data Analysis"
   ]
  },
  {
   "cell_type": "code",
   "execution_count": 7,
   "metadata": {
    "colab": {
     "base_uri": "https://localhost:8080/",
     "height": 299
    },
    "id": "Z8AdSqcp5dG7",
    "outputId": "34963a48-f140-4e56-87b1-e1f02389e9b5"
   },
   "outputs": [
    {
     "data": {
      "text/html": [
       "<div>\n",
       "<style scoped>\n",
       "    .dataframe tbody tr th:only-of-type {\n",
       "        vertical-align: middle;\n",
       "    }\n",
       "\n",
       "    .dataframe tbody tr th {\n",
       "        vertical-align: top;\n",
       "    }\n",
       "\n",
       "    .dataframe thead th {\n",
       "        text-align: right;\n",
       "    }\n",
       "</style>\n",
       "<table border=\"1\" class=\"dataframe\">\n",
       "  <thead>\n",
       "    <tr style=\"text-align: right;\">\n",
       "      <th></th>\n",
       "      <th>age</th>\n",
       "      <th>bmi</th>\n",
       "      <th>children</th>\n",
       "      <th>expenses</th>\n",
       "    </tr>\n",
       "  </thead>\n",
       "  <tbody>\n",
       "    <tr>\n",
       "      <th>count</th>\n",
       "      <td>1338.000000</td>\n",
       "      <td>1338.000000</td>\n",
       "      <td>1338.000000</td>\n",
       "      <td>1338.000000</td>\n",
       "    </tr>\n",
       "    <tr>\n",
       "      <th>mean</th>\n",
       "      <td>39.207025</td>\n",
       "      <td>30.665471</td>\n",
       "      <td>1.094918</td>\n",
       "      <td>13270.422414</td>\n",
       "    </tr>\n",
       "    <tr>\n",
       "      <th>std</th>\n",
       "      <td>14.049960</td>\n",
       "      <td>6.098382</td>\n",
       "      <td>1.205493</td>\n",
       "      <td>12110.011240</td>\n",
       "    </tr>\n",
       "    <tr>\n",
       "      <th>min</th>\n",
       "      <td>18.000000</td>\n",
       "      <td>16.000000</td>\n",
       "      <td>0.000000</td>\n",
       "      <td>1121.870000</td>\n",
       "    </tr>\n",
       "    <tr>\n",
       "      <th>25%</th>\n",
       "      <td>27.000000</td>\n",
       "      <td>26.300000</td>\n",
       "      <td>0.000000</td>\n",
       "      <td>4740.287500</td>\n",
       "    </tr>\n",
       "    <tr>\n",
       "      <th>50%</th>\n",
       "      <td>39.000000</td>\n",
       "      <td>30.400000</td>\n",
       "      <td>1.000000</td>\n",
       "      <td>9382.030000</td>\n",
       "    </tr>\n",
       "    <tr>\n",
       "      <th>75%</th>\n",
       "      <td>51.000000</td>\n",
       "      <td>34.700000</td>\n",
       "      <td>2.000000</td>\n",
       "      <td>16639.915000</td>\n",
       "    </tr>\n",
       "    <tr>\n",
       "      <th>max</th>\n",
       "      <td>64.000000</td>\n",
       "      <td>53.100000</td>\n",
       "      <td>5.000000</td>\n",
       "      <td>63770.430000</td>\n",
       "    </tr>\n",
       "  </tbody>\n",
       "</table>\n",
       "</div>"
      ],
      "text/plain": [
       "               age          bmi     children      expenses\n",
       "count  1338.000000  1338.000000  1338.000000   1338.000000\n",
       "mean     39.207025    30.665471     1.094918  13270.422414\n",
       "std      14.049960     6.098382     1.205493  12110.011240\n",
       "min      18.000000    16.000000     0.000000   1121.870000\n",
       "25%      27.000000    26.300000     0.000000   4740.287500\n",
       "50%      39.000000    30.400000     1.000000   9382.030000\n",
       "75%      51.000000    34.700000     2.000000  16639.915000\n",
       "max      64.000000    53.100000     5.000000  63770.430000"
      ]
     },
     "execution_count": 7,
     "metadata": {
      "tags": []
     },
     "output_type": "execute_result"
    }
   ],
   "source": [
    "# get more statistical Measures of the dataset\n",
    "insurance_dataset.describe()"
   ]
  },
  {
   "cell_type": "code",
   "execution_count": 8,
   "metadata": {
    "colab": {
     "base_uri": "https://localhost:8080/",
     "height": 466
    },
    "id": "rmm9Mjrd54Rf",
    "outputId": "e954e507-e5ec-4069-95c5-3e6864f8a4d7"
   },
   "outputs": [
    {
     "name": "stderr",
     "output_type": "stream",
     "text": [
      "/usr/local/lib/python3.7/dist-packages/seaborn/distributions.py:2557: FutureWarning: `distplot` is a deprecated function and will be removed in a future version. Please adapt your code to use either `displot` (a figure-level function with similar flexibility) or `histplot` (an axes-level function for histograms).\n",
      "  warnings.warn(msg, FutureWarning)\n"
     ]
    },
    {
     "data": {
      "image/png": "[encoded data removed]",
      "text/plain": [
       "<Figure size 432x432 with 1 Axes>"
      ]
     },
     "metadata": {
      "tags": []
     },
     "output_type": "display_data"
    }
   ],
   "source": [
    "# distribution of age value\n",
    "sns.set()\n",
    "plt.figure(figsize=(6,6))\n",
    "sns.distplot(insurance_dataset['age'])\n",
    "plt.title('Age Distribution')\n",
    "plt.show()"
   ]
  },
  {
   "cell_type": "code",
   "execution_count": 9,
   "metadata": {
    "colab": {
     "base_uri": "https://localhost:8080/",
     "height": 410
    },
    "id": "HrlOiOEF58YK",
    "outputId": "78827180-0a3b-4d95-8511-ed78acad9a69"
   },
   "outputs": [
    {
     "data": {
      "image/png": "[encoded data removed]",
      "text/plain": [
       "<Figure size 432x432 with 1 Axes>"
      ]
     },
     "metadata": {
      "tags": []
     },
     "output_type": "display_data"
    }
   ],
   "source": [
    "# Gender column\n",
    "plt.figure(figsize=(6,6))\n",
    "sns.countplot(x='sex', data=insurance_dataset)\n",
    "plt.title('Sex Distribution')\n",
    "plt.show()"
   ]
  },
  {
   "cell_type": "code",
   "execution_count": 10,
   "metadata": {
    "colab": {
     "base_uri": "https://localhost:8080/"
    },
    "id": "HTbu_vgI6A7o",
    "outputId": "22049ff8-5639-453b-fe6e-1ebeba421b12"
   },
   "outputs": [
    {
     "data": {
      "text/plain": [
       "male      676\n",
       "female    662\n",
       "Name: sex, dtype: int64"
      ]
     },
     "execution_count": 10,
     "metadata": {
      "tags": []
     },
     "output_type": "execute_result"
    }
   ],
   "source": [
    "insurance_dataset['sex'].value_counts()"
   ]
  },
  {
   "cell_type": "code",
   "execution_count": 11,
   "metadata": {
    "colab": {
     "base_uri": "https://localhost:8080/",
     "height": 466
    },
    "id": "dqgVnaK36Fzm",
    "outputId": "a44f4ed3-9513-435b-bd83-cbe7152f0acc"
   },
   "outputs": [
    {
     "name": "stderr",
     "output_type": "stream",
     "text": [
      "/usr/local/lib/python3.7/dist-packages/seaborn/distributions.py:2557: FutureWarning: `distplot` is a deprecated function and will be removed in a future version. Please adapt your code to use either `displot` (a figure-level function with similar flexibility) or `histplot` (an axes-level function for histograms).\n",
      "  warnings.warn(msg, FutureWarning)\n"
     ]
    },
    {
     "data": {
      "image/png": "[encoded data removed]",
      "text/plain": [
       "<Figure size 432x432 with 1 Axes>"
      ]
     },
     "metadata": {
      "tags": []
     },
     "output_type": "display_data"
    }
   ],
   "source": [
    "# bmi distribution\n",
    "plt.figure(figsize=(6,6))\n",
    "sns.distplot(insurance_dataset['bmi'])\n",
    "plt.title('BMI Distribution')\n",
    "plt.show()"
   ]
  },
  {
   "cell_type": "code",
   "execution_count": 12,
   "metadata": {
    "colab": {
     "base_uri": "https://localhost:8080/",
     "height": 410
    },
    "id": "OyhX-3ku6KFl",
    "outputId": "8fc5fa9f-74f9-4e18-9a47-25cc18d3422e"
   },
   "outputs": [
    {
     "data": {
      "image/png": "[encoded data removed]",
      "text/plain": [
       "<Figure size 432x432 with 1 Axes>"
      ]
     },
     "metadata": {
      "tags": []
     },
     "output_type": "display_data"
    }
   ],
   "source": [
    "# children column\n",
    "plt.figure(figsize=(6,6))\n",
    "sns.countplot(x='children', data=insurance_dataset)\n",
    "plt.title('Children')\n",
    "plt.show()"
   ]
  },
  {
   "cell_type": "code",
   "execution_count": 13,
   "metadata": {
    "colab": {
     "base_uri": "https://localhost:8080/"
    },
    "id": "-c4XjlvQ6O2c",
    "outputId": "1a2275f4-a2a1-466f-992a-acaa6504a060"
   },
   "outputs": [
    {
     "data": {
      "text/plain": [
       "0    574\n",
       "1    324\n",
       "2    240\n",
       "3    157\n",
       "4     25\n",
       "5     18\n",
       "Name: children, dtype: int64"
      ]
     },
     "execution_count": 13,
     "metadata": {
      "tags": []
     },
     "output_type": "execute_result"
    }
   ],
   "source": [
    "insurance_dataset['children'].value_counts()"
   ]
  },
  {
   "cell_type": "code",
   "execution_count": 14,
   "metadata": {
    "colab": {
     "base_uri": "https://localhost:8080/",
     "height": 410
    },
    "id": "0XMN05UL6SgL",
    "outputId": "a6f09b0e-8dc3-484c-ed18-73f09731966b"
   },
   "outputs": [
    {
     "data": {
      "image/png": "[encoded data removed]",
      "text/plain": [
       "<Figure size 432x432 with 1 Axes>"
      ]
     },
     "metadata": {
      "tags": []
     },
     "output_type": "display_data"
    }
   ],
   "source": [
    "# smoker column\n",
    "plt.figure(figsize=(6,6))\n",
    "sns.countplot(x='smoker', data=insurance_dataset)\n",
    "plt.title('smoker')\n",
    "plt.show()"
   ]
  },
  {
   "cell_type": "code",
   "execution_count": 15,
   "metadata": {
    "colab": {
     "base_uri": "https://localhost:8080/"
    },
    "id": "tiItmGS06XO7",
    "outputId": "b6ac4382-0b3f-4c39-9087-f8abfdee8073"
   },
   "outputs": [
    {
     "data": {
      "text/plain": [
       "no     1064\n",
       "yes     274\n",
       "Name: smoker, dtype: int64"
      ]
     },
     "execution_count": 15,
     "metadata": {
      "tags": []
     },
     "output_type": "execute_result"
    }
   ],
   "source": [
    "insurance_dataset['smoker'].value_counts()"
   ]
  },
  {
   "cell_type": "code",
   "execution_count": 16,
   "metadata": {
    "colab": {
     "base_uri": "https://localhost:8080/",
     "height": 410
    },
    "id": "2bA_9aHg6eDS",
    "outputId": "eb29b1f3-1ee5-46d0-fdac-fb26e9395854"
   },
   "outputs": [
    {
     "data": {
      "image/png": "[encoded data removed]",
      "text/plain": [
       "<Figure size 432x432 with 1 Axes>"
      ]
     },
     "metadata": {
      "tags": []
     },
     "output_type": "display_data"
    }
   ],
   "source": [
    "# region column\n",
    "plt.figure(figsize=(6,6))\n",
    "sns.countplot(x='region', data=insurance_dataset)\n",
    "plt.title('region')\n",
    "plt.show()"
   ]
  },
  {
   "cell_type": "code",
   "execution_count": 17,
   "metadata": {
    "colab": {
     "base_uri": "https://localhost:8080/"
    },
    "id": "FneQdJIO6hPd",
    "outputId": "8a2a8ee8-4a11-4700-beb6-0787fa8ebd61"
   },
   "outputs": [
    {
     "data": {
      "text/plain": [
       "southeast    364\n",
       "southwest    325\n",
       "northwest    325\n",
       "northeast    324\n",
       "Name: region, dtype: int64"
      ]
     },
     "execution_count": 17,
     "metadata": {
      "tags": []
     },
     "output_type": "execute_result"
    }
   ],
   "source": [
    "insurance_dataset['region'].value_counts()"
   ]
  },
  {
   "cell_type": "code",
   "execution_count": 18,
   "metadata": {
    "colab": {
     "base_uri": "https://localhost:8080/",
     "height": 466
    },
    "id": "JIN4wL_V6kyI",
    "outputId": "9987d7e0-1eff-4d23-f750-58d35415430e"
   },
   "outputs": [
    {
     "name": "stderr",
     "output_type": "stream",
     "text": [
      "/usr/local/lib/python3.7/dist-packages/seaborn/distributions.py:2557: FutureWarning: `distplot` is a deprecated function and will be removed in a future version. Please adapt your code to use either `displot` (a figure-level function with similar flexibility) or `histplot` (an axes-level function for histograms).\n",
      "  warnings.warn(msg, FutureWarning)\n"
     ]
    },
    {
     "data": {
      "image/png": "[encoded data removed]",
      "text/plain": [
       "<Figure size 432x432 with 1 Axes>"
      ]
     },
     "metadata": {
      "tags": []
     },
     "output_type": "display_data"
    }
   ],
   "source": [
    "# distribution of charges value\n",
    "plt.figure(figsize=(6,6))\n",
    "sns.distplot(insurance_dataset['expenses'])\n",
    "plt.title('Expenses Distribution')\n",
    "plt.show()"
   ]
  },
  {
   "cell_type": "markdown",
   "metadata": {
    "id": "O06nm2JU7Vx6"
   },
   "source": [
    "# Data Pre-Processing"
   ]
  },
  {
   "cell_type": "markdown",
   "metadata": {
    "id": "rEnbDhzq7ZUj"
   },
   "source": [
    "## Encoding the categorical features"
   ]
  },
  {
   "cell_type": "code",
   "execution_count": 19,
   "metadata": {
    "id": "WeTVImld6oIJ"
   },
   "outputs": [],
   "source": [
    "# encoding sex column\n",
    "insurance_dataset.replace({'sex':{'male':0,'female':1}}, inplace=True)\n",
    "\n",
    "3 # encoding 'smoker' column\n",
    "insurance_dataset.replace({'smoker':{'yes':0,'no':1}}, inplace=True)\n",
    "\n",
    "# encoding 'region' column\n",
    "insurance_dataset.replace({'region':{'southeast':0,'southwest':1,'northeast':2,'northwest':3}}, inplace=True)"
   ]
  },
  {
   "cell_type": "markdown",
   "metadata": {
    "id": "X18XoOvg7nu5"
   },
   "source": [
    "## Splitting the Features and Target"
   ]
  },
  {
   "cell_type": "code",
   "execution_count": 20,
   "metadata": {
    "id": "EJdnWZJh7iWv"
   },
   "outputs": [],
   "source": [
    "X = insurance_dataset.drop(columns='expenses', axis=1)\n",
    "Y = insurance_dataset['expenses']"
   ]
  },
  {
   "cell_type": "markdown",
   "metadata": {
    "id": "tRlspUI975mw"
   },
   "source": [
    "## Splitting the data into Training data & Testing Data"
   ]
  },
  {
   "cell_type": "code",
   "execution_count": 21,
   "metadata": {
    "id": "ERwQh1Gn7xEE"
   },
   "outputs": [],
   "source": [
    "X_train, X_test, Y_train, Y_test = train_test_split(X, Y, test_size=0.2, random_state=2)"
   ]
  },
  {
   "cell_type": "code",
   "execution_count": 22,
   "metadata": {
    "colab": {
     "base_uri": "https://localhost:8080/"
    },
    "id": "HyWmMlyv79d2",
    "outputId": "90382ede-4a10-42e4-e33b-7eabf00c62a4"
   },
   "outputs": [
    {
     "name": "stdout",
     "output_type": "stream",
     "text": [
      "(1338, 6) (1070, 6) (268, 6)\n"
     ]
    }
   ],
   "source": [
    "print(X.shape, X_train.shape, X_test.shape)"
   ]
  },
  {
   "cell_type": "markdown",
   "metadata": {
    "id": "AyXqdAx28Gw-"
   },
   "source": [
    "# Model training"
   ]
  },
  {
   "cell_type": "markdown",
   "metadata": {
    "id": "C0wqRnkI8TE-"
   },
   "source": [
    "## Model 1: Linear Regression"
   ]
  },
  {
   "cell_type": "code",
   "execution_count": 23,
   "metadata": {
    "colab": {
     "base_uri": "https://localhost:8080/"
    },
    "id": "QwNKWJTf8BZC",
    "outputId": "51577f3c-2100-4075-fb30-03351e1bb96f"
   },
   "outputs": [
    {
     "data": {
      "text/plain": [
       "LinearRegression(copy_X=True, fit_intercept=True, n_jobs=None, normalize=False)"
      ]
     },
     "execution_count": 23,
     "metadata": {
      "tags": []
     },
     "output_type": "execute_result"
    }
   ],
   "source": [
    "# loading the Linear Regression model\n",
    "regressor = LinearRegression()\n",
    "regressor.fit(X_train, Y_train)"
   ]
  },
  {
   "cell_type": "markdown",
   "metadata": {
    "id": "y_TJpRxg82X5"
   },
   "source": [
    "## Linear Regression Evaluation"
   ]
  },
  {
   "cell_type": "markdown",
   "metadata": {
    "id": "cD2IA2_pKs11"
   },
   "source": [
    "### Train Data"
   ]
  },
  {
   "cell_type": "code",
   "execution_count": 24,
   "metadata": {
    "colab": {
     "base_uri": "https://localhost:8080/"
    },
    "id": "YF3XW3gV8yNX",
    "outputId": "971694da-bee3-4154-82e4-613052ea4b53"
   },
   "outputs": [
    {
     "name": "stdout",
     "output_type": "stream",
     "text": [
      "R squared vale :  0.7515233180624387\n",
      "MAE : 4150.271508686156\n",
      "MSE : 36172405.67283648\n",
      "RMSE : 6014.349979244347\n"
     ]
    }
   ],
   "source": [
    "# prediction on training data\n",
    "training_data_prediction_LR =regressor.predict(X_train)\n",
    "\n",
    "# R squared value\n",
    "r2_train = metrics.r2_score(Y_train, training_data_prediction_LR)\n",
    "print('R squared vale : ', r2_train)\n",
    "\n",
    "print(f'MAE : {mean_absolute_error(Y_train, training_data_prediction_LR)}')\n",
    "print(f'MSE : {mean_squared_error(Y_train, training_data_prediction_LR)}')\n",
    "print(f'RMSE : {np.sqrt(mean_squared_error(Y_train,training_data_prediction_LR))}')"
   ]
  },
  {
   "cell_type": "markdown",
   "metadata": {
    "id": "Vhq5h0ghKym6"
   },
   "source": [
    "### Test Data"
   ]
  },
  {
   "cell_type": "code",
   "execution_count": 25,
   "metadata": {
    "colab": {
     "base_uri": "https://localhost:8080/"
    },
    "id": "E4GhoPqNHY8I",
    "outputId": "f8fe11af-71d2-4e18-d5f6-a94bdfa10e05"
   },
   "outputs": [
    {
     "name": "stdout",
     "output_type": "stream",
     "text": [
      "R squared vale :  0.7447382074449773\n",
      "MAE : 4267.4834093785175\n",
      "MSE : 38335409.4859106\n",
      "RMSE : 6191.5595358447945\n"
     ]
    }
   ],
   "source": [
    "# prediction on test data\n",
    "test_data_prediction_LR =regressor.predict(X_test)\n",
    "\n",
    "# R squared value\n",
    "r2_test = metrics.r2_score(Y_test, test_data_prediction_LR)\n",
    "print('R squared vale : ', r2_test)\n",
    "\n",
    "print(f'MAE : {mean_absolute_error(Y_test, test_data_prediction_LR)}')\n",
    "print(f'MSE : {mean_squared_error(Y_test, test_data_prediction_LR)}')\n",
    "print(f'RMSE : {np.sqrt(mean_squared_error(Y_test,test_data_prediction_LR))}')"
   ]
  },
  {
   "cell_type": "markdown",
   "metadata": {
    "id": "Eqh1_8uY_djB"
   },
   "source": [
    "## Model 2 :  DecisionTree Regression"
   ]
  },
  {
   "cell_type": "code",
   "execution_count": 26,
   "metadata": {
    "colab": {
     "base_uri": "https://localhost:8080/"
    },
    "id": "VMSzMIQU9BJi",
    "outputId": "7f73070f-3bc8-4062-9244-f0d1a8e59e42"
   },
   "outputs": [
    {
     "data": {
      "text/plain": [
       "DecisionTreeRegressor(ccp_alpha=0.0, criterion='mse', max_depth=None,\n",
       "                      max_features=None, max_leaf_nodes=None,\n",
       "                      min_impurity_decrease=0.0, min_impurity_split=None,\n",
       "                      min_samples_leaf=1, min_samples_split=2,\n",
       "                      min_weight_fraction_leaf=0.0, presort='deprecated',\n",
       "                      random_state=None, splitter='best')"
      ]
     },
     "execution_count": 26,
     "metadata": {
      "tags": []
     },
     "output_type": "execute_result"
    }
   ],
   "source": [
    "DTR = DecisionTreeRegressor()\n",
    "DTR.fit(X_train, Y_train)\n"
   ]
  },
  {
   "cell_type": "markdown",
   "metadata": {
    "id": "XqeYDZ0lAOXC"
   },
   "source": [
    "## Decision Tree Regression Evaluation"
   ]
  },
  {
   "cell_type": "markdown",
   "metadata": {
    "id": "bo4tPkA6IOK8"
   },
   "source": [
    "### Training data\n",
    "\n",
    "\n",
    "\n"
   ]
  },
  {
   "cell_type": "code",
   "execution_count": 27,
   "metadata": {
    "colab": {
     "base_uri": "https://localhost:8080/"
    },
    "id": "Wyi6LzZeAKXN",
    "outputId": "7f7d4439-4805-4edd-a288-beecd3af5aa2"
   },
   "outputs": [
    {
     "name": "stdout",
     "output_type": "stream",
     "text": [
      "R squared vale :  1.0\n",
      "MAE : 0.0\n",
      "MSE : 0.0\n",
      "RMSE : 0.0\n"
     ]
    }
   ],
   "source": [
    "# prediction on training data\n",
    "training_data_prediction_DTR =DTR.predict(X_train)\n",
    "\n",
    "# R squared value\n",
    "r2_train = metrics.r2_score(Y_train, training_data_prediction_DTR)\n",
    "print('R squared vale : ', r2_train)\n",
    "\n",
    "print(f'MAE : {mean_absolute_error(Y_train, training_data_prediction_DTR)}')\n",
    "print(f'MSE : {mean_squared_error(Y_train, training_data_prediction_DTR)}')\n",
    "print(f'RMSE : {np.sqrt(mean_squared_error(Y_train,training_data_prediction_DTR))}')"
   ]
  },
  {
   "cell_type": "markdown",
   "metadata": {
    "id": "86yrxhluIaN_"
   },
   "source": [
    "### Test Data"
   ]
  },
  {
   "cell_type": "code",
   "execution_count": 28,
   "metadata": {
    "colab": {
     "base_uri": "https://localhost:8080/"
    },
    "id": "L0iWasoJH85p",
    "outputId": "86cd018f-fb1f-46a4-d236-d1fa664d1871"
   },
   "outputs": [
    {
     "name": "stdout",
     "output_type": "stream",
     "text": [
      "R squared vale :  0.6864987639641615\n",
      "MAE : 3340.364216417911\n",
      "MSE : 47081853.25143172\n",
      "RMSE : 6861.621765401509\n"
     ]
    }
   ],
   "source": [
    "# prediction on test data\n",
    "test_data_prediction_DTR =DTR.predict(X_test)\n",
    "\n",
    "# R squared value\n",
    "r2_test = metrics.r2_score(Y_test, test_data_prediction_DTR)\n",
    "print('R squared vale : ', r2_test)\n",
    "\n",
    "print(f'MAE : {mean_absolute_error(Y_test, test_data_prediction_DTR)}')\n",
    "print(f'MSE : {mean_squared_error(Y_test, test_data_prediction_DTR)}')\n",
    "print(f'RMSE : {np.sqrt(mean_squared_error(Y_test,test_data_prediction_DTR))}')"
   ]
  },
  {
   "cell_type": "markdown",
   "metadata": {
    "id": "LrqoWJeLG8Jx"
   },
   "source": [
    "## Model 3 : Random Forest Regressor"
   ]
  },
  {
   "cell_type": "code",
   "execution_count": 29,
   "metadata": {
    "colab": {
     "base_uri": "https://localhost:8080/"
    },
    "id": "lm94_xMMG0hT",
    "outputId": "7481ee25-6c5b-4bdb-d6a4-3645edb1867f"
   },
   "outputs": [
    {
     "data": {
      "text/plain": [
       "RandomForestRegressor(bootstrap=True, ccp_alpha=0.0, criterion='mse',\n",
       "                      max_depth=None, max_features='auto', max_leaf_nodes=None,\n",
       "                      max_samples=None, min_impurity_decrease=0.0,\n",
       "                      min_impurity_split=None, min_samples_leaf=1,\n",
       "                      min_samples_split=2, min_weight_fraction_leaf=0.0,\n",
       "                      n_estimators=100, n_jobs=None, oob_score=False,\n",
       "                      random_state=None, verbose=0, warm_start=False)"
      ]
     },
     "execution_count": 29,
     "metadata": {
      "tags": []
     },
     "output_type": "execute_result"
    }
   ],
   "source": [
    "RFR = RandomForestRegressor()\n",
    "RFR.fit(X_train, Y_train)"
   ]
  },
  {
   "cell_type": "markdown",
   "metadata": {
    "id": "BV-kKWzOI35I"
   },
   "source": [
    "## Random Forest Regression Evaluation"
   ]
  },
  {
   "cell_type": "markdown",
   "metadata": {
    "id": "bd6eX0RzI_Xt"
   },
   "source": [
    "### Train Data"
   ]
  },
  {
   "cell_type": "code",
   "execution_count": 30,
   "metadata": {
    "colab": {
     "base_uri": "https://localhost:8080/"
    },
    "id": "2mxuOP3aAm1Y",
    "outputId": "0fe762e3-3294-4c64-bd32-7ac767de1280"
   },
   "outputs": [
    {
     "name": "stdout",
     "output_type": "stream",
     "text": [
      "R squared vale :  0.9781981704585614\n",
      "MAE : 980.1052105607478\n",
      "MSE : 3173837.5465795957\n",
      "RMSE : 1781.526745962461\n"
     ]
    }
   ],
   "source": [
    "# prediction on training data\n",
    "training_data_prediction_RTR =RFR.predict(X_train)\n",
    "\n",
    "# R squared value\n",
    "r2_train = metrics.r2_score(Y_train, training_data_prediction_RTR)\n",
    "print('R squared vale : ', r2_train)\n",
    "\n",
    "print(f'MAE : {mean_absolute_error(Y_train, training_data_prediction_RTR)}')\n",
    "print(f'MSE : {mean_squared_error(Y_train, training_data_prediction_RTR)}')\n",
    "print(f'RMSE : {np.sqrt(mean_squared_error(Y_train,training_data_prediction_RTR))}')"
   ]
  },
  {
   "cell_type": "markdown",
   "metadata": {
    "id": "ydLBgjV2JSLA"
   },
   "source": [
    "### Test  Data"
   ]
  },
  {
   "cell_type": "code",
   "execution_count": 31,
   "metadata": {
    "colab": {
     "base_uri": "https://localhost:8080/"
    },
    "id": "QWklR3lqH7IA",
    "outputId": "a07d91f8-8d61-481f-cbf5-27359f8d1e76"
   },
   "outputs": [
    {
     "name": "stdout",
     "output_type": "stream",
     "text": [
      "R squared vale :  0.8345765558151016\n",
      "MAE : 2722.148102611941\n",
      "MSE : 24843418.233188212\n",
      "RMSE : 4984.317228386272\n"
     ]
    }
   ],
   "source": [
    "# prediction on test data\n",
    "test_data_prediction_RFR =RFR.predict(X_test)\n",
    "\n",
    "# R squared value\n",
    "r2_test = metrics.r2_score(Y_test, test_data_prediction_RFR)\n",
    "print('R squared vale : ', r2_test)\n",
    "\n",
    "print(f'MAE : {mean_absolute_error(Y_test, test_data_prediction_RFR)}')\n",
    "print(f'MSE : {mean_squared_error(Y_test, test_data_prediction_RFR)}')\n",
    "print(f'RMSE : {np.sqrt(mean_squared_error(Y_test,test_data_prediction_RFR))}')"
   ]
  },
  {
   "cell_type": "markdown",
   "metadata": {
    "id": "oEe9peVGJfqT"
   },
   "source": [
    "## Model 4 : XG BOOSTING"
   ]
  },
  {
   "cell_type": "code",
   "execution_count": 32,
   "metadata": {
    "colab": {
     "base_uri": "https://localhost:8080/"
    },
    "id": "EEQ7cpMVJW3U",
    "outputId": "6a42a389-abed-428a-fac5-582cbf10f019"
   },
   "outputs": [
    {
     "name": "stdout",
     "output_type": "stream",
     "text": [
      "[14:36:17] WARNING: /workspace/src/objective/regression_obj.cu:152: reg:linear is now deprecated in favor of reg:squarederror.\n"
     ]
    },
    {
     "data": {
      "text/plain": [
       "XGBRegressor(base_score=0.5, booster='gbtree', colsample_bylevel=1,\n",
       "             colsample_bynode=1, colsample_bytree=1, gamma=0,\n",
       "             importance_type='gain', learning_rate=0.1, max_delta_step=0,\n",
       "             max_depth=3, min_child_weight=1, missing=None, n_estimators=100,\n",
       "             n_jobs=1, nthread=None, objective='reg:linear', random_state=0,\n",
       "             reg_alpha=0, reg_lambda=1, scale_pos_weight=1, seed=None,\n",
       "             silent=None, subsample=1, verbosity=1)"
      ]
     },
     "execution_count": 32,
     "metadata": {
      "tags": []
     },
     "output_type": "execute_result"
    }
   ],
   "source": [
    "XGB = XGBRegressor()\n",
    "XGB.fit(X_train, Y_train)"
   ]
  },
  {
   "cell_type": "markdown",
   "metadata": {
    "id": "6wdh0QZLKDi3"
   },
   "source": [
    "## XGBoosting Model Evaluation"
   ]
  },
  {
   "cell_type": "markdown",
   "metadata": {
    "id": "CBwmqFe8KQIy"
   },
   "source": [
    "### Train Data"
   ]
  },
  {
   "cell_type": "code",
   "execution_count": 33,
   "metadata": {
    "colab": {
     "base_uri": "https://localhost:8080/"
    },
    "id": "xz1-dPZXKBuV",
    "outputId": "4a7b80c6-e1f9-4a81-f9d3-976a5d93ba13"
   },
   "outputs": [
    {
     "name": "stdout",
     "output_type": "stream",
     "text": [
      "R squared vale :  0.8970798708259715\n",
      "MAE : 2117.24810792841\n",
      "MSE : 14982768.746562686\n",
      "RMSE : 3870.7581617252563\n"
     ]
    }
   ],
   "source": [
    "# prediction on training data\n",
    "training_data_prediction_XGB =XGB.predict(X_train)\n",
    "\n",
    "# R squared value\n",
    "r2_train = metrics.r2_score(Y_train, training_data_prediction_XGB)\n",
    "print('R squared vale : ', r2_train)\n",
    "\n",
    "print(f'MAE : {mean_absolute_error(Y_train, training_data_prediction_XGB)}')\n",
    "print(f'MSE : {mean_squared_error(Y_train, training_data_prediction_XGB)}')\n",
    "print(f'RMSE : {np.sqrt(mean_squared_error(Y_train,training_data_prediction_XGB))}')"
   ]
  },
  {
   "cell_type": "markdown",
   "metadata": {
    "id": "1QIDWUIOKeU-"
   },
   "source": [
    "### Test Data"
   ]
  },
  {
   "cell_type": "code",
   "execution_count": 34,
   "metadata": {
    "colab": {
     "base_uri": "https://localhost:8080/"
    },
    "id": "sx9zCqCYKZwn",
    "outputId": "03237c1f-574b-4b70-e41d-61c8f87dc9ec"
   },
   "outputs": [
    {
     "name": "stdout",
     "output_type": "stream",
     "text": [
      "R squared vale :  0.8666347132874535\n",
      "MAE : 2409.069896969012\n",
      "MSE : 20028899.844967198\n",
      "RMSE : 4475.365889507493\n"
     ]
    }
   ],
   "source": [
    "# prediction on test data\n",
    "test_data_prediction_XGB =XGB.predict(X_test)\n",
    "\n",
    "# R squared value\n",
    "r2_test = metrics.r2_score(Y_test, test_data_prediction_XGB)\n",
    "print('R squared vale : ', r2_test)\n",
    "\n",
    "print(f'MAE : {mean_absolute_error(Y_test, test_data_prediction_XGB)}')\n",
    "print(f'MSE : {mean_squared_error(Y_test, test_data_prediction_XGB)}')\n",
    "print(f'RMSE : {np.sqrt(mean_squared_error(Y_test,test_data_prediction_XGB))}')"
   ]
  },
  {
   "cell_type": "markdown",
   "metadata": {
    "id": "C3I8qJ19T7ez"
   },
   "source": [
    "## Model 5 : K Nearest Neighours"
   ]
  },
  {
   "cell_type": "code",
   "execution_count": 35,
   "metadata": {
    "colab": {
     "base_uri": "https://localhost:8080/"
    },
    "id": "kVHQbhjaT5l4",
    "outputId": "8703ee6f-c5e5-435a-f162-6bb133945448"
   },
   "outputs": [
    {
     "data": {
      "text/plain": [
       "KNeighborsRegressor(algorithm='auto', leaf_size=30, metric='minkowski',\n",
       "                    metric_params=None, n_jobs=None, n_neighbors=5, p=2,\n",
       "                    weights='uniform')"
      ]
     },
     "execution_count": 35,
     "metadata": {
      "tags": []
     },
     "output_type": "execute_result"
    }
   ],
   "source": [
    "KNN = KNeighborsRegressor()\n",
    "KNN.fit(X_train, Y_train)"
   ]
  },
  {
   "cell_type": "markdown",
   "metadata": {
    "id": "BgbchJfuUV62"
   },
   "source": [
    "## KNN Model Evalution"
   ]
  },
  {
   "cell_type": "markdown",
   "metadata": {
    "id": "Sjf4XdYwUbea"
   },
   "source": [
    "### Train Data"
   ]
  },
  {
   "cell_type": "code",
   "execution_count": 36,
   "metadata": {
    "colab": {
     "base_uri": "https://localhost:8080/"
    },
    "id": "uo3cKD_1URGD",
    "outputId": "bfd3606c-fec9-47a6-bf8d-01683e666474"
   },
   "outputs": [
    {
     "name": "stdout",
     "output_type": "stream",
     "text": [
      "R squared vale :  0.39709407681646147\n",
      "MAE : 6414.838981308411\n",
      "MSE : 87769031.14567155\n",
      "RMSE : 9368.512749933767\n"
     ]
    }
   ],
   "source": [
    "# prediction on training data\n",
    "training_data_prediction_KNN =KNN.predict(X_train)\n",
    "\n",
    "# R squared value\n",
    "r2_train = metrics.r2_score(Y_train, training_data_prediction_KNN)\n",
    "print('R squared vale : ', r2_train)\n",
    "\n",
    "print(f'MAE : {mean_absolute_error(Y_train, training_data_prediction_KNN)}')\n",
    "print(f'MSE : {mean_squared_error(Y_train, training_data_prediction_KNN)}')\n",
    "print(f'RMSE : {np.sqrt(mean_squared_error(Y_train,training_data_prediction_KNN))}')"
   ]
  },
  {
   "cell_type": "markdown",
   "metadata": {
    "id": "dJM10NnsUvwL"
   },
   "source": [
    "### Test Data"
   ]
  },
  {
   "cell_type": "code",
   "execution_count": 37,
   "metadata": {
    "colab": {
     "base_uri": "https://localhost:8080/"
    },
    "id": "uhamuW-gUt-6",
    "outputId": "02328377-baaf-481e-fa4c-255ba1f5176f"
   },
   "outputs": [
    {
     "name": "stdout",
     "output_type": "stream",
     "text": [
      "R squared vale :  0.045793537556784614\n",
      "MAE : 8579.099097014927\n",
      "MSE : 143303449.78666523\n",
      "RMSE : 11970.94189220987\n"
     ]
    }
   ],
   "source": [
    "# prediction on test data\n",
    "test_data_prediction_KNN =KNN.predict(X_test)\n",
    "\n",
    "# R squared value\n",
    "r2_test = metrics.r2_score(Y_test, test_data_prediction_KNN)\n",
    "print('R squared vale : ', r2_test)\n",
    "\n",
    "print(f'MAE : {mean_absolute_error(Y_test, test_data_prediction_KNN)}')\n",
    "print(f'MSE : {mean_squared_error(Y_test, test_data_prediction_KNN)}')\n",
    "print(f'RMSE : {np.sqrt(mean_squared_error(Y_test,test_data_prediction_KNN))}')"
   ]
  },
  {
   "cell_type": "markdown",
   "metadata": {
    "id": "GCnxSVHsPGc3"
   },
   "source": [
    "## Model 6 : Support Vector Regressor"
   ]
  },
  {
   "cell_type": "code",
   "execution_count": 38,
   "metadata": {
    "colab": {
     "base_uri": "https://localhost:8080/"
    },
    "id": "ELriZruQPFsg",
    "outputId": "f57ee1aa-d1b6-4579-9a58-336191df12d0"
   },
   "outputs": [
    {
     "data": {
      "text/plain": [
       "SVR(C=1.0, cache_size=200, coef0=0.0, degree=3, epsilon=0.1, gamma='scale',\n",
       "    kernel='rbf', max_iter=-1, shrinking=True, tol=0.001, verbose=False)"
      ]
     },
     "execution_count": 38,
     "metadata": {
      "tags": []
     },
     "output_type": "execute_result"
    }
   ],
   "source": [
    "SVR = SVR()\n",
    "SVR.fit(X_train, Y_train)"
   ]
  },
  {
   "cell_type": "markdown",
   "metadata": {
    "id": "uN1gyEV1P_N6"
   },
   "source": [
    "### Train Data"
   ]
  },
  {
   "cell_type": "code",
   "execution_count": 39,
   "metadata": {
    "colab": {
     "base_uri": "https://localhost:8080/"
    },
    "id": "ITJbm1M5P5sJ",
    "outputId": "3394b350-3927-4b78-9480-b2c0fdd87115"
   },
   "outputs": [
    {
     "name": "stdout",
     "output_type": "stream",
     "text": [
      "R squared vale :  -0.11104190258235747\n",
      "MAE : 8270.57054632814\n",
      "MSE : 161741770.31963122\n",
      "RMSE : 12717.773795740795\n"
     ]
    }
   ],
   "source": [
    "# prediction on training data\n",
    "training_data_prediction_SVR =SVR.predict(X_train)\n",
    "\n",
    "# R squared value\n",
    "r2_train = metrics.r2_score(Y_train, training_data_prediction_SVR)\n",
    "print('R squared vale : ', r2_train)\n",
    "\n",
    "print(f'MAE : {mean_absolute_error(Y_train, training_data_prediction_SVR)}')\n",
    "print(f'MSE : {mean_squared_error(Y_train, training_data_prediction_SVR)}')\n",
    "print(f'RMSE : {np.sqrt(mean_squared_error(Y_train,training_data_prediction_SVR))}')\n"
   ]
  },
  {
   "cell_type": "markdown",
   "metadata": {
    "id": "q3YeJnojQfvz"
   },
   "source": [
    "### Test Data"
   ]
  },
  {
   "cell_type": "code",
   "execution_count": 40,
   "metadata": {
    "colab": {
     "base_uri": "https://localhost:8080/"
    },
    "id": "SA_PEZFSQfIY",
    "outputId": "65de9541-e439-40f3-b8e2-ffca3f047f30"
   },
   "outputs": [
    {
     "name": "stdout",
     "output_type": "stream",
     "text": [
      "R squared vale :  -0.08038023131684624\n",
      "MAE : 8467.074839421079\n",
      "MSE : 162252322.03165138\n",
      "RMSE : 12737.830350246128\n"
     ]
    }
   ],
   "source": [
    "# prediction on test data\n",
    "test_data_prediction_SVR =SVR.predict(X_test)\n",
    "\n",
    "# R squared value\n",
    "r2_test = metrics.r2_score(Y_test, test_data_prediction_SVR)\n",
    "print('R squared vale : ', r2_test)\n",
    "\n",
    "print(f'MAE : {mean_absolute_error(Y_test, test_data_prediction_SVR)}')\n",
    "print(f'MSE : {mean_squared_error(Y_test, test_data_prediction_SVR)}')\n",
    "print(f'RMSE : {np.sqrt(mean_squared_error(Y_test,test_data_prediction_SVR))}')"
   ]
  },
  {
   "cell_type": "markdown",
   "metadata": {
    "id": "27AFkw6HLAAF"
   },
   "source": [
    "## Result"
   ]
  },
  {
   "cell_type": "code",
   "execution_count": 41,
   "metadata": {
    "id": "XJ90Bix0Kjyy"
   },
   "outputs": [],
   "source": [
    "Result = pd.DataFrame({'Model' : ['Linear Regression', 'DecisionTreeRegressor', 'RandomForestRegressor', 'XGBoost', 'KNN', 'SVR'],\n",
    "                       'R2_Score' : [r2_score(Y_test, test_data_prediction_LR),r2_score(Y_test, test_data_prediction_DTR),r2_score(Y_test, test_data_prediction_RFR),r2_score(Y_test, test_data_prediction_XGB), r2_score(Y_test, test_data_prediction_KNN),r2_score(Y_test, test_data_prediction_SVR) ],\n",
    "                      'Mean_Absolute_Error'  : [mean_absolute_error(Y_test, test_data_prediction_LR),mean_absolute_error(Y_test, test_data_prediction_DTR),mean_absolute_error(Y_test, test_data_prediction_RFR),mean_absolute_error(Y_test, test_data_prediction_XGB), mean_absolute_error(Y_test,test_data_prediction_KNN), mean_absolute_error(Y_test, test_data_prediction_SVR)],\n",
    "                       'Mean_Squared_Error' : [mean_squared_error(Y_test, test_data_prediction_LR),mean_squared_error(Y_test, test_data_prediction_DTR),mean_squared_error(Y_test, test_data_prediction_RFR),mean_squared_error(Y_test, test_data_prediction_XGB), mean_squared_error(Y_test,test_data_prediction_KNN), mean_squared_error(Y_test, test_data_prediction_SVR)],\n",
    "                       'Root_MSE' : [np.sqrt(mean_squared_error(Y_test, test_data_prediction_LR)),np.sqrt(mean_squared_error(Y_test, test_data_prediction_DTR)),np.sqrt(mean_squared_error(Y_test, test_data_prediction_RFR)),np.sqrt(mean_squared_error(Y_test, test_data_prediction_XGB)), np.sqrt(mean_squared_error(Y_test,test_data_prediction_KNN)), np.sqrt(mean_squared_error(Y_test, test_data_prediction_SVR))]})"
   ]
  },
  {
   "cell_type": "code",
   "execution_count": 42,
   "metadata": {
    "colab": {
     "base_uri": "https://localhost:8080/",
     "height": 236
    },
    "id": "0jJUmVB0NNBh",
    "outputId": "d65af7a5-f52e-47b1-b813-3b892f85e536"
   },
   "outputs": [
    {
     "data": {
      "text/html": [
       "<div>\n",
       "<style scoped>\n",
       "    .dataframe tbody tr th:only-of-type {\n",
       "        vertical-align: middle;\n",
       "    }\n",
       "\n",
       "    .dataframe tbody tr th {\n",
       "        vertical-align: top;\n",
       "    }\n",
       "\n",
       "    .dataframe thead th {\n",
       "        text-align: right;\n",
       "    }\n",
       "</style>\n",
       "<table border=\"1\" class=\"dataframe\">\n",
       "  <thead>\n",
       "    <tr style=\"text-align: right;\">\n",
       "      <th></th>\n",
       "      <th>Model</th>\n",
       "      <th>R2_Score</th>\n",
       "      <th>Mean_Absolute_Error</th>\n",
       "      <th>Mean_Squared_Error</th>\n",
       "      <th>Root_MSE</th>\n",
       "    </tr>\n",
       "  </thead>\n",
       "  <tbody>\n",
       "    <tr>\n",
       "      <th>0</th>\n",
       "      <td>Linear Regression</td>\n",
       "      <td>0.744738</td>\n",
       "      <td>4267.483409</td>\n",
       "      <td>3.833541e+07</td>\n",
       "      <td>6191.559536</td>\n",
       "    </tr>\n",
       "    <tr>\n",
       "      <th>1</th>\n",
       "      <td>DecisionTreeRegressor</td>\n",
       "      <td>0.686499</td>\n",
       "      <td>3340.364216</td>\n",
       "      <td>4.708185e+07</td>\n",
       "      <td>6861.621765</td>\n",
       "    </tr>\n",
       "    <tr>\n",
       "      <th>2</th>\n",
       "      <td>RandomForestRegressor</td>\n",
       "      <td>0.834577</td>\n",
       "      <td>2722.148103</td>\n",
       "      <td>2.484342e+07</td>\n",
       "      <td>4984.317228</td>\n",
       "    </tr>\n",
       "    <tr>\n",
       "      <th>3</th>\n",
       "      <td>XGBoost</td>\n",
       "      <td>0.866635</td>\n",
       "      <td>2409.069897</td>\n",
       "      <td>2.002890e+07</td>\n",
       "      <td>4475.365890</td>\n",
       "    </tr>\n",
       "    <tr>\n",
       "      <th>4</th>\n",
       "      <td>KNN</td>\n",
       "      <td>0.045794</td>\n",
       "      <td>8579.099097</td>\n",
       "      <td>1.433034e+08</td>\n",
       "      <td>11970.941892</td>\n",
       "    </tr>\n",
       "    <tr>\n",
       "      <th>5</th>\n",
       "      <td>SVR</td>\n",
       "      <td>-0.080380</td>\n",
       "      <td>8467.074839</td>\n",
       "      <td>1.622523e+08</td>\n",
       "      <td>12737.830350</td>\n",
       "    </tr>\n",
       "  </tbody>\n",
       "</table>\n",
       "</div>"
      ],
      "text/plain": [
       "                   Model  R2_Score  ...  Mean_Squared_Error      Root_MSE\n",
       "0      Linear Regression  0.744738  ...        3.833541e+07   6191.559536\n",
       "1  DecisionTreeRegressor  0.686499  ...        4.708185e+07   6861.621765\n",
       "2  RandomForestRegressor  0.834577  ...        2.484342e+07   4984.317228\n",
       "3                XGBoost  0.866635  ...        2.002890e+07   4475.365890\n",
       "4                    KNN  0.045794  ...        1.433034e+08  11970.941892\n",
       "5                    SVR -0.080380  ...        1.622523e+08  12737.830350\n",
       "\n",
       "[6 rows x 5 columns]"
      ]
     },
     "execution_count": 42,
     "metadata": {
      "tags": []
     },
     "output_type": "execute_result"
    }
   ],
   "source": [
    "Result"
   ]
  },
  {
   "cell_type": "markdown",
   "metadata": {
    "id": "4dn69I4PKuVB"
   },
   "source": [
    "### Xtreme Gradient Boost Get Good Accuarcy than Other Models"
   ]
  },
  {
   "cell_type": "markdown",
   "metadata": {
    "id": "m-kmUVkSHus6"
   },
   "source": [
    "## Test The Model and Predict the Ouput before Hyperparmeter  Tuning"
   ]
  },
  {
   "cell_type": "code",
   "execution_count": 43,
   "metadata": {
    "colab": {
     "base_uri": "https://localhost:8080/"
    },
    "id": "nW-kQmHqHsgZ",
    "outputId": "b32017f7-9b67-4722-b8ae-fecf2866abe9"
   },
   "outputs": [
    {
     "name": "stdout",
     "output_type": "stream",
     "text": [
      "(19, 1, 27.9, 0, 0, 1)\n",
      "[19.   1.  27.9  0.   0.   1. ]\n",
      "[[19.   1.  27.9  0.   0.   1. ]]\n",
      "The insurance cost predict by Using LR Model : 25596.164348496022\n",
      "The insurance cost predict by Using DT Model : 16884.92\n",
      "The insurance cost predict by Using RF Model : 16887.532699999992\n",
      "The insurance cost predict by Using KNN Model : 10651.894\n"
     ]
    }
   ],
   "source": [
    "input_data = (19,1,27.9,0,0,1)\n",
    "print(input_data)\n",
    "\n",
    "# changing input_data to a numpy array\n",
    "input_data_as_numpy_array = np.asarray(input_data)\n",
    "print(input_data_as_numpy_array)\n",
    "# reshape the array\n",
    "input_data_reshaped = input_data_as_numpy_array.reshape(1,-1)\n",
    "print(input_data_reshaped)\n",
    "\n",
    "prediction_LR= regressor.predict(input_data_reshaped)\n",
    "prediction_DTR= DTR.predict(input_data_reshaped)\n",
    "prediction_RFR= RFR.predict(input_data_reshaped)\n",
    "# prediction_XGB= XGB.predict(input_data_reshaped)\n",
    "prediction_KNN= KNN.predict(input_data_reshaped)\n",
    "\n",
    "\n",
    "\n",
    "\n",
    "print('The insurance cost predict by Using LR Model :', prediction_LR[0])\n",
    "print('The insurance cost predict by Using DT Model :', prediction_DTR[0])\n",
    "print('The insurance cost predict by Using RF Model :', prediction_RFR[0])\n",
    "# print('The insurance cost predict by Using XGB Model :', prediction_XGB[0])\n",
    "print('The insurance cost predict by Using KNN Model :', prediction_KNN[0])"
   ]
  },
  {
   "cell_type": "markdown",
   "metadata": {
    "id": "cTmLbMnlR7KL"
   },
   "source": [
    "# Hyperparameter Techiques"
   ]
  },
  {
   "cell_type": "code",
   "execution_count": 44,
   "metadata": {
    "id": "Dye7onYZNfMI"
   },
   "outputs": [],
   "source": [
    "params_DTR= {  'max_depth':[2, 3, 5],\n",
    "                'min_samples_split':[2,5,10,15,20,25]}\n",
    "\n",
    "params_RFR= {'n_estimators':[100,500,1000],\n",
    "                'max_features':['log2', 'sqrt', 'auto'],\n",
    "                'max_depth':[2, 3, 5],\n",
    "                'min_samples_split':[2,5,10,15,20,25],\n",
    "                'min_samples_leaf':[1,2,4,6,8,10]}\n",
    "\n",
    "params_XGB= {'nthread':[4], #when use hyperthread, xgboost may become slower\n",
    "              'objective':['reg:linear'],\n",
    "              'learning_rate': [.03, 0.05, .07], #so called `eta` value\n",
    "              'max_depth': [5, 6, 7],\n",
    "              'min_child_weight': [4],\n",
    "              'silent': [1],\n",
    "              'subsample': [0.7],\n",
    "              'colsample_bytree': [0.7],\n",
    "              'n_estimators': [500]}\n",
    "\n",
    "params_KNN= {'n_neighbors':list(range(2,20,2)),\n",
    "              'weights':['uniform', 'distance'],\n",
    "              'leaf_size':list(range(1,5)),\n",
    "              'p':[1,2]}\n",
    "\n",
    "params_SVR= {'kernel':['linear', 'poly', 'rbf', 'sigmoid'],\n",
    "             'degree':[1,2,3,4,5,6,7],\n",
    "             'gamma':['scale', 'auto'],\n",
    "             'C':[1, 10, 100, 1000, 10000]}\n"
   ]
  },
  {
   "cell_type": "code",
   "execution_count": 45,
   "metadata": {
    "id": "M45ZgkQwKW9M"
   },
   "outputs": [],
   "source": [
    "# grid_svr= GridSearchCV(estimator=SVR, param_grid=params_SVR, cv=5, n_jobs=-1, scoring=make_scorer(r2_score))\n",
    "# grid_svr.fit(X_train,Y_train)\n",
    "# print(f'{SVR}: ')\n",
    "# print('-'.center(20,'-'))\n",
    "# print(f'r2 score :{grid_svr.best_score_}')\n",
    "# print(f'Best Parameter :{grid_svr.best_params_}')\n",
    "\n",
    "# print('-----------------------------------')\n",
    "\n",
    "# # after hyper tuning\n",
    "\n",
    "# # prediction on training data\n",
    "# training_data_prediction_GridSVR =grid_dt.predict(X_train)\n",
    "\n",
    "# # R squared value\n",
    "# r2_train = metrics.r2_score(Y_train, training_data_prediction_GridSVR)\n",
    "# print('R squared Train value : ', r2_train)\n",
    "\n",
    "# print(f'MAE : {mean_absolute_error(Y_train, training_data_prediction_GridSVR)}')\n",
    "# print(f'MSE : {mean_squared_error(Y_train, training_data_prediction_GridSVR)}')\n",
    "# print(f'RMSE : {np.sqrt(mean_squared_error(Y_train,training_data_prediction_GridSVR))}')\n",
    "\n",
    "\n",
    "# # prediction on test data\n",
    "# test_data_prediction_GridSVR =grid_svr.predict(X_test)\n",
    "\n",
    "# # R squared value\n",
    "# r2_test = metrics.r2_score(Y_test, test_data_prediction_GridSVR)\n",
    "# print('R squared Test value : ', r2_test)\n",
    "\n",
    "# print(f'MAE : {mean_absolute_error(Y_test, test_data_prediction_GridSVR)}')\n",
    "# print(f'MSE : {mean_squared_error(Y_test, test_data_prediction_GridSVR)}')\n",
    "# print(f'RMSE : {np.sqrt(mean_squared_error(Y_test,test_data_prediction_GridSVR))}')"
   ]
  },
  {
   "cell_type": "code",
   "execution_count": 46,
   "metadata": {
    "colab": {
     "base_uri": "https://localhost:8080/"
    },
    "id": "yyO0Sy6uPXJJ",
    "outputId": "e4d14d4a-a862-4e94-d87e-2000729dae7c"
   },
   "outputs": [
    {
     "name": "stdout",
     "output_type": "stream",
     "text": [
      "DecisionTreeRegressor(ccp_alpha=0.0, criterion='mse', max_depth=None,\n",
      "                      max_features=None, max_leaf_nodes=None,\n",
      "                      min_impurity_decrease=0.0, min_impurity_split=None,\n",
      "                      min_samples_leaf=1, min_samples_split=2,\n",
      "                      min_weight_fraction_leaf=0.0, presort='deprecated',\n",
      "                      random_state=None, splitter='best'): \n",
      "--------------------\n",
      "r2 score :0.8360922883192583\n",
      "Best Parameter :{'max_depth': 3, 'min_samples_split': 2}\n",
      "-----------------------------------\n",
      "R squared Train value :  0.856932194728445\n",
      "MAE : 2792.996910184601\n",
      "MSE : 20827333.376519784\n",
      "RMSE : 4563.697336208854\n",
      "R squared Test value :  0.8512441001487021\n",
      "MAE : 2773.4431275415013\n",
      "MSE : 22340273.791720673\n",
      "RMSE : 4726.549882495759\n"
     ]
    }
   ],
   "source": [
    "grid_dt= GridSearchCV(estimator=DTR, param_grid=params_DTR, cv=5, n_jobs=-1, scoring=make_scorer(r2_score))\n",
    "grid_dt.fit(X_train,Y_train)\n",
    "print(f'{DTR}: ')\n",
    "print('-'.center(20,'-'))\n",
    "print(f'r2 score :{grid_dt.best_score_}')\n",
    "print(f'Best Parameter :{grid_dt.best_params_}')\n",
    "\n",
    "print('-----------------------------------')\n",
    "\n",
    "# after hyper tuning\n",
    "\n",
    "# prediction on training data\n",
    "training_data_prediction_GridDTR =grid_dt.predict(X_train)\n",
    "\n",
    "# R squared value\n",
    "r2_train = metrics.r2_score(Y_train, training_data_prediction_GridDTR)\n",
    "print('R squared Train value : ', r2_train)\n",
    "\n",
    "print(f'MAE : {mean_absolute_error(Y_train, training_data_prediction_GridDTR)}')\n",
    "print(f'MSE : {mean_squared_error(Y_train, training_data_prediction_GridDTR)}')\n",
    "print(f'RMSE : {np.sqrt(mean_squared_error(Y_train,training_data_prediction_GridDTR))}')\n",
    "\n",
    "\n",
    "# prediction on test data\n",
    "test_data_prediction_GridDTR =grid_dt.predict(X_test)\n",
    "\n",
    "# R squared value\n",
    "r2_test = metrics.r2_score(Y_test, test_data_prediction_GridDTR)\n",
    "print('R squared Test value : ', r2_test)\n",
    "\n",
    "print(f'MAE : {mean_absolute_error(Y_test, test_data_prediction_GridDTR)}')\n",
    "print(f'MSE : {mean_squared_error(Y_test, test_data_prediction_GridDTR)}')\n",
    "print(f'RMSE : {np.sqrt(mean_squared_error(Y_test,test_data_prediction_GridDTR))}')"
   ]
  },
  {
   "cell_type": "code",
   "execution_count": 47,
   "metadata": {
    "colab": {
     "base_uri": "https://localhost:8080/"
    },
    "id": "Xti4VX3SPrUI",
    "outputId": "37d4b565-5370-4d87-f98d-bbd5b1c2b30f"
   },
   "outputs": [
    {
     "name": "stdout",
     "output_type": "stream",
     "text": [
      "XGBRegressor(base_score=0.5, booster='gbtree', colsample_bylevel=1,\n",
      "             colsample_bynode=1, colsample_bytree=1, gamma=0,\n",
      "             importance_type='gain', learning_rate=0.1, max_delta_step=0,\n",
      "             max_depth=3, min_child_weight=1, missing=None, n_estimators=100,\n",
      "             n_jobs=1, nthread=None, objective='reg:linear', random_state=0,\n",
      "             reg_alpha=0, reg_lambda=1, scale_pos_weight=1, seed=None,\n",
      "             silent=None, subsample=1, verbosity=1): \n",
      "--------------------\n",
      "r2 score :0.8248788206358114\n",
      "Best Parameter :{'colsample_bytree': 0.7, 'learning_rate': 0.03, 'max_depth': 5, 'min_child_weight': 4, 'n_estimators': 500, 'nthread': 4, 'objective': 'reg:linear', 'silent': 1, 'subsample': 0.7}\n",
      "-----------------------------------\n",
      "R squared Train value :  0.9437071107327383\n",
      "MAE : 1632.293168883707\n",
      "MSE : 8194930.853041312\n",
      "RMSE : 2862.6789643690945\n",
      "R squared Test value :  0.839444558289382\n",
      "MAE : 2867.0347691823476\n",
      "MSE : 24112337.931815896\n",
      "RMSE : 4910.431542320481\n"
     ]
    }
   ],
   "source": [
    "grid_xgb= GridSearchCV(estimator=XGB, param_grid=params_XGB, cv=5, n_jobs=-1, scoring=make_scorer(r2_score))\n",
    "grid_xgb.fit(X_train,Y_train)\n",
    "print(f'{XGB}: ')\n",
    "print('-'.center(20,'-'))\n",
    "print(f'r2 score :{grid_xgb.best_score_}')\n",
    "print(f'Best Parameter :{grid_xgb.best_params_}')\n",
    "\n",
    "print('-----------------------------------')\n",
    "\n",
    "# after hyper tuning\n",
    "\n",
    "# prediction on training data\n",
    "training_data_prediction_GridXGB =grid_xgb.predict(X_train)\n",
    "\n",
    "# R squared value\n",
    "r2_train = metrics.r2_score(Y_train, training_data_prediction_GridXGB)\n",
    "print('R squared Train value : ', r2_train)\n",
    "\n",
    "print(f'MAE : {mean_absolute_error(Y_train, training_data_prediction_GridXGB)}')\n",
    "print(f'MSE : {mean_squared_error(Y_train, training_data_prediction_GridXGB)}')\n",
    "print(f'RMSE : {np.sqrt(mean_squared_error(Y_train,training_data_prediction_GridXGB))}')\n",
    "\n",
    "# prediction on test data\n",
    "test_data_prediction_GridXGB =grid_xgb.predict(X_test)\n",
    "\n",
    "# R squared value\n",
    "r2_test = metrics.r2_score(Y_test, test_data_prediction_GridXGB)\n",
    "print('R squared Test value : ', r2_test)\n",
    "\n",
    "print(f'MAE : {mean_absolute_error(Y_test, test_data_prediction_GridXGB)}')\n",
    "print(f'MSE : {mean_squared_error(Y_test, test_data_prediction_GridXGB)}')\n",
    "print(f'RMSE : {np.sqrt(mean_squared_error(Y_test,test_data_prediction_GridXGB))}')\n"
   ]
  },
  {
   "cell_type": "code",
   "execution_count": 48,
   "metadata": {
    "id": "DAvCIVWjBYWW"
   },
   "outputs": [],
   "source": [
    "# grid_rf= GridSearchCV(estimator=RFR, param_grid=params_RFR, cv=5)\n",
    "# grid_rf.fit(X_train,Y_train)\n",
    "# print(f'{RFR}: ')\n",
    "# print('-'.center(20,'-'))\n",
    "# print(f'r2 score :{grid_rf.best_score_}')\n",
    "# print(f'Best Parameter :{grid_rf.best_params_}')"
   ]
  },
  {
   "cell_type": "code",
   "execution_count": 49,
   "metadata": {
    "colab": {
     "base_uri": "https://localhost:8080/"
    },
    "id": "vLbOdm-pBpQU",
    "outputId": "2f20ac06-c117-4bed-d4c7-cc2d60b64f81"
   },
   "outputs": [
    {
     "name": "stdout",
     "output_type": "stream",
     "text": [
      "KNeighborsRegressor(algorithm='auto', leaf_size=30, metric='minkowski',\n",
      "                    metric_params=None, n_jobs=None, n_neighbors=5, p=2,\n",
      "                    weights='uniform'): \n",
      "--------------------\n",
      "r2 score :0.3188280852201705\n",
      "Best Parameter :{'leaf_size': 2, 'n_neighbors': 10, 'p': 1, 'weights': 'distance'}\n",
      "-----------------------------------\n",
      "R squared Train value :  1.0\n",
      "MAE : 0.0\n",
      "MSE : 0.0\n",
      "RMSE : 0.0\n",
      "R squared Test value :  0.34012955759200125\n",
      "MAE : 6807.070445459437\n",
      "MSE : 99099843.20080683\n",
      "RMSE : 9954.890416313323\n"
     ]
    }
   ],
   "source": [
    "grid_knn= GridSearchCV(estimator=KNN, param_grid=params_KNN, cv=5, n_jobs=-1, scoring=make_scorer(r2_score))\n",
    "grid_knn.fit(X_train,Y_train)\n",
    "print(f'{KNN}: ')\n",
    "print('-'.center(20,'-'))\n",
    "print(f'r2 score :{grid_knn.best_score_}')\n",
    "print(f'Best Parameter :{grid_knn.best_params_}')\n",
    "\n",
    "print('-----------------------------------')\n",
    "\n",
    "# after hyper tuning\n",
    "\n",
    "# prediction on training data\n",
    "training_data_prediction_GridKNN =grid_knn.predict(X_train)\n",
    "\n",
    "# R squared value\n",
    "r2_train = metrics.r2_score(Y_train, training_data_prediction_GridKNN)\n",
    "print('R squared Train value : ', r2_train)\n",
    "\n",
    "print(f'MAE : {mean_absolute_error(Y_train, training_data_prediction_GridKNN)}')\n",
    "print(f'MSE : {mean_squared_error(Y_train, training_data_prediction_GridKNN)}')\n",
    "print(f'RMSE : {np.sqrt(mean_squared_error(Y_train,training_data_prediction_GridKNN))}')\n",
    "\n",
    "# prediction on test data\n",
    "test_data_prediction_GridKNN =grid_knn.predict(X_test)\n",
    "\n",
    "# R squared value\n",
    "r2_test = metrics.r2_score(Y_test, test_data_prediction_GridKNN)\n",
    "print('R squared Test value : ', r2_test)\n",
    "\n",
    "print(f'MAE : {mean_absolute_error(Y_test, test_data_prediction_GridKNN)}')\n",
    "print(f'MSE : {mean_squared_error(Y_test, test_data_prediction_GridKNN)}')\n",
    "print(f'RMSE : {np.sqrt(mean_squared_error(Y_test,test_data_prediction_GridKNN))}')"
   ]
  },
  {
   "cell_type": "code",
   "execution_count": 50,
   "metadata": {
    "id": "bBY9AxziMy3J"
   },
   "outputs": [],
   "source": [
    "# for i,j,k in zip([DTR,RFR,XGB,KNN], [params_DTR,params_RFR,params_XGB,params_KNN],['DTR','RFR','XGB','KNN']):\n",
    "#   grid= GridSearchCV(estimator=i, param_grid=j, cv=5, n_jobs=-1, scoring=make_scorer(r2_score))\n",
    "#   grid.fit(X_train,Y_train)\n",
    "#   print(f'{k}= ')\n",
    "#   print('-'.center(20,'-'))\n",
    "#   print(f'r2 score :{grid.best_score_}')\n",
    "#   print(f'Best Parameter :{grid.best_params_}')"
   ]
  },
  {
   "cell_type": "markdown",
   "metadata": {
    "id": "qmKPxwYoZ6zG"
   },
   "source": [
    "## Test The Model and Predict the Ouput after Hyperparmeter  Tuning"
   ]
  },
  {
   "cell_type": "code",
   "execution_count": 51,
   "metadata": {
    "colab": {
     "base_uri": "https://localhost:8080/"
    },
    "id": "xtCJbdpPZwL9",
    "outputId": "170992a4-b4ba-4bbf-c179-2246f4d9ec70"
   },
   "outputs": [
    {
     "name": "stdout",
     "output_type": "stream",
     "text": [
      "The insurance cost predict by Using LR Model : 3710.922852184929\n",
      "The insurance cost predict by Using DT Model : 6817.5009352518\n",
      "The insurance cost predict by Using KNN Model : 1725.55\n"
     ]
    }
   ],
   "source": [
    "input_data = (18,0,33.8,1,1,0)\n",
    "\n",
    "# changing input_data to a numpy array\n",
    "input_data_as_numpy_array = np.asarray(input_data)\n",
    "\n",
    "# reshape the array\n",
    "input_data_reshaped = input_data_as_numpy_array.reshape(1,-1)\n",
    "\n",
    "prediction_GridLR= regressor.predict(input_data_reshaped)\n",
    "prediction_GridDTR= grid_dt.predict(input_data_reshaped)\n",
    "# prediction_GridRFR= grid_rf.predict(input_data_reshaped)\n",
    "# prediction_GridXGB= XGB.predict(input_data_reshaped)\n",
    "prediction_GridKNN= grid_knn.predict(input_data_reshaped)\n",
    "# prediction_GridSVR= grid_svr.predict(input_data_reshaped)\n",
    "\n",
    "\n",
    "\n",
    "\n",
    "print('The insurance cost predict by Using LR Model :', prediction_GridLR[0])\n",
    "print('The insurance cost predict by Using DT Model :', prediction_GridDTR[0])\n",
    "# print('The insurance cost predict by Using RF Model :', prediction_GridRFR[0])\n",
    "# print('The insurance cost predict by Using XGB Model :', prediction_XGB[0])\n",
    "print('The insurance cost predict by Using KNN Model :', prediction_GridKNN[0])\n",
    "# print('The insurance cost predict by Using SVR Model :', prediction_GridSVR[0])"
   ]
  },
  {
   "cell_type": "code",
   "execution_count": 80,
   "metadata": {
    "colab": {
     "base_uri": "https://localhost:8080/",
     "height": 301
    },
    "id": "wQMZQJGPYLXv",
    "outputId": "e884c17f-d950-4bd4-e690-30497596326a"
   },
   "outputs": [
    {
     "data": {
      "image/png": "[encoded data removed]",
      "text/plain": [
       "<Figure size 432x288 with 1 Axes>"
      ]
     },
     "metadata": {
      "tags": []
     },
     "output_type": "display_data"
    }
   ],
   "source": [
    "plt.scatter(Y_test, test_data_prediction_XGB)\n",
    "plt.xlabel(\"Actual Cost\")\n",
    "plt.ylabel(\"Predicted Cost\")\n",
    "plt.title(\"Actual Cost vs Preicted Cost\")\n",
    "plt.show()"
   ]
  },
  {
   "cell_type": "code",
   "execution_count": 81,
   "metadata": {
    "colab": {
     "base_uri": "https://localhost:8080/",
     "height": 301
    },
    "id": "ILLY5NNgY6xZ",
    "outputId": "2c0208d8-6693-4bf4-a40a-513658295050"
   },
   "outputs": [
    {
     "data": {
      "image/png": "[encoded data removed]",
      "text/plain": [
       "<Figure size 432x288 with 1 Axes>"
      ]
     },
     "metadata": {
      "tags": []
     },
     "output_type": "display_data"
    }
   ],
   "source": [
    "plt.scatter(Y_test, test_data_prediction_LR)\n",
    "plt.xlabel(\"Actual Cost\")\n",
    "plt.ylabel(\"Predicted Cost\")\n",
    "plt.title(\"Actual Cost vs Preicted Cost\")\n",
    "plt.show()"
   ]
  },
  {
   "cell_type": "code",
   "execution_count": 82,
   "metadata": {
    "colab": {
     "base_uri": "https://localhost:8080/",
     "height": 301
    },
    "id": "pR7dZr7CZAXU",
    "outputId": "e9bb4961-a8c6-4bc5-bfa5-7f8cdc2fafe5"
   },
   "outputs": [
    {
     "data": {
      "image/png": "[encoded data removed]",
      "text/plain": [
       "<Figure size 432x288 with 1 Axes>"
      ]
     },
     "metadata": {
      "tags": []
     },
     "output_type": "display_data"
    }
   ],
   "source": [
    "plt.scatter(Y_test, test_data_prediction_RFR)\n",
    "plt.xlabel(\"Actual Cost\")\n",
    "plt.ylabel(\"Predicted Cost\")\n",
    "plt.title(\"Actual Cost vs Preicted Cost\")\n",
    "plt.show()"
   ]
  },
  {
   "cell_type": "code",
   "execution_count": 83,
   "metadata": {
    "colab": {
     "base_uri": "https://localhost:8080/",
     "height": 301
    },
    "id": "tAWV5yHmZIob",
    "outputId": "9ef1875b-fa48-4a75-c59f-a200d40dbfbc"
   },
   "outputs": [
    {
     "data": {
      "image/png": "[encoded data removed]",
      "text/plain": [
       "<Figure size 432x288 with 1 Axes>"
      ]
     },
     "metadata": {
      "tags": []
     },
     "output_type": "display_data"
    }
   ],
   "source": [
    "plt.scatter(Y_test, test_data_prediction_GridDTR)\n",
    "plt.xlabel(\"Actual Cost\")\n",
    "plt.ylabel(\"Predicted Cost\")\n",
    "plt.title(\"Actual Cost vs Preicted Cost\")\n",
    "plt.show()"
   ]
  },
  {
   "cell_type": "code",
   "execution_count": 55,
   "metadata": {
    "id": "LZqtXwjsZShV"
   },
   "outputs": [],
   "source": []
  },
  {
   "cell_type": "markdown",
   "metadata": {
    "id": "S9eGP4wdVNJm"
   },
   "source": [
    "## Conclusion"
   ]
  },
  {
   "cell_type": "markdown",
   "metadata": {
    "id": "k_90izWKVTz4"
   },
   "source": [
    "### The Linear Regression Decision Tree, Random Forest & XG Boosting Getting Good Accuracy so we have predict the right amount of premium cost"
   ]
  },
  {
   "cell_type": "code",
   "execution_count": 69,
   "metadata": {
    "id": "5IQcvrcRNh3g"
   },
   "outputs": [],
   "source": [
    "## Create a Pickle file using serialization \n",
    "\n",
    "import pickle\n",
    "with open(\"LinearRegressorModel.pkl\",\"wb\") as f:\n",
    "  pickle.dump(regressor, f)\n",
    "\n",
    "with open(\"DecisionTreeModel.pkl\",\"wb\") as f:\n",
    "  pickle.dump(grid_dt, f)\n",
    "\n",
    "with open(\"RandomForestModel.pkl\",\"wb\") as f:\n",
    "  pickle.dump(RFR, f)\n",
    "\n",
    "with open(\"XGBoostModel.pkl\",\"wb\") as f:\n",
    "  pickle.dump(XGB, f)\n",
    "\n",
    "\n"
   ]
  },
  {
   "cell_type": "code",
   "execution_count": 66,
   "metadata": {
    "id": "OuB_Tum2pj2i"
   },
   "outputs": [],
   "source": [
    "with open(\"LinearRegressorModel.pkl\",\"rb\") as f:\n",
    "  regression = pickle.load(f)\n",
    "\n",
    "with open(\"DecisionTreeModel.pkl\",\"rb\") as f:\n",
    "  dt = pickle.load(f)\n",
    "\n",
    "with open(\"RandomForestModel.pkl\",\"rb\") as f:\n",
    "  rf = pickle.load(f)\n",
    "\n",
    "with open(\"XGBoostModel.pkl\",\"rb\") as f:\n",
    "  xgb = pickle.load(f)"
   ]
  },
  {
   "cell_type": "code",
   "execution_count": 79,
   "metadata": {
    "colab": {
     "base_uri": "https://localhost:8080/"
    },
    "id": "Lx1tsVLepumw",
    "outputId": "d0a1abf4-454b-4dd0-942b-763621744d42"
   },
   "outputs": [
    {
     "name": "stdout",
     "output_type": "stream",
     "text": [
      "5029.25129515142\n",
      "3852.9346354166632\n",
      "2687.3260999999998\n"
     ]
    }
   ],
   "source": [
    "input_data = (27,0,32.7,0,1,0)\n",
    "\n",
    "# changing input_data to a numpy array\n",
    "input_data_as_numpy_array = np.asarray(input_data)\n",
    "\n",
    "# reshape the array\n",
    "input_data_reshaped = input_data_as_numpy_array.reshape(1,-1)\n",
    "\n",
    "ResultLR = regression.predict(input_data_reshaped)\n",
    "ResultDT = dt.predict(input_data_reshaped)\n",
    "ResultRF = rf.predict(input_data_reshaped)\n",
    "# ResultXGB = xgb.predict(input_data_reshaped)\n",
    "\n",
    "print(ResultLR[0])\n",
    "print(ResultDT[0])\n",
    "print(ResultRF[0])\n",
    "# print(ResultXGB[0])"
   ]
  },
  {
   "cell_type": "code",
   "execution_count": 57,
   "metadata": {
    "id": "Xea-obs7eFBD"
   },
   "outputs": [],
   "source": []
  }
 ],
 "metadata": {
  "accelerator": "GPU",
  "colab": {
   "collapsed_sections": [],
   "name": "insurance-premium.ipynb",
   "provenance": []
  },
  "kernelspec": {
   "display_name": "Python 3",
   "language": "python",
   "name": "python3"
  },
  "language_info": {
   "codemirror_mode": {
    "name": "ipython",
    "version": 3
   },
   "file_extension": ".py",
   "mimetype": "text/x-python",
   "name": "python",
   "nbconvert_exporter": "python",
   "pygments_lexer": "ipython3",
   "version": "3.6.13"
  },
  "toc": {
   "base_numbering": 1,
   "nav_menu": {},
   "number_sections": true,
   "sideBar": true,
   "skip_h1_title": false,
   "title_cell": "Table of Contents",
   "title_sidebar": "Contents",
   "toc_cell": false,
   "toc_position": {},
   "toc_section_display": true,
   "toc_window_display": false
  }
 },
 "nbformat": 4,
 "nbformat_minor": 1
}
